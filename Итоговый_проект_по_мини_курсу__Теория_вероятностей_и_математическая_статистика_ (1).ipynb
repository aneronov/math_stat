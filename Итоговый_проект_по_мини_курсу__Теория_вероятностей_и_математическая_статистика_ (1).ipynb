{
  "nbformat": 4,
  "nbformat_minor": 0,
  "metadata": {
    "colab": {
      "provenance": []
    },
    "kernelspec": {
      "name": "python3",
      "display_name": "Python 3"
    },
    "language_info": {
      "name": "python"
    }
  },
  "cells": [
    {
      "cell_type": "markdown",
      "source": [
        "##Задача.\n",
        "Имеются обезличенные данные подростков 18 лет - вес и рос (фунт и дуюм).\n",
        "\n",
        "Определим зависимость веса тела от роста, насколько сильна данная зависимость и насколько корректно мы можем описать данную зависимость линейным уравнением. \n",
        "\n",
        "Содержание:\n",
        "\n",
        "\n",
        "\n",
        "*   корреляция и ковариация\n",
        "*   коэффициент корреляции Пирсона\n",
        "*   линейное уравнение как регрессионная модель зависимости 2х переменных\n",
        "*   коэффициент детерминации\n",
        "*   оценки качества модели\n",
        "*   вывод\n",
        "\n",
        "\n",
        "\n",
        "\n",
        "\n",
        "\n"
      ],
      "metadata": {
        "id": "Dlz-9NeEjmp5"
      }
    },
    {
      "cell_type": "markdown",
      "source": [
        "##Решение"
      ],
      "metadata": {
        "id": "0oAnK9DoMYiJ"
      }
    },
    {
      "cell_type": "markdown",
      "source": [
        "Подгрузим необходимые библиотеки и файл с данными."
      ],
      "metadata": {
        "id": "-nU6HagfMcqt"
      }
    },
    {
      "cell_type": "code",
      "execution_count": 2,
      "metadata": {
        "id": "2DHi9rHKE5zx"
      },
      "outputs": [],
      "source": [
        "import numpy as np\n",
        "import pandas as pd\n",
        "import warnings\n",
        "import io\n",
        "import matplotlib\n",
        "import matplotlib.pyplot as plt\n",
        "%matplotlib inline\n",
        "warnings.filterwarnings('ignore')\n"
      ]
    },
    {
      "cell_type": "code",
      "source": [
        "from google.colab import files\n",
        " \n",
        " \n",
        "uploaded = files.upload()"
      ],
      "metadata": {
        "colab": {
          "base_uri": "https://localhost:8080/",
          "height": 73
        },
        "id": "GxTHcUsUFMH9",
        "outputId": "23db5390-275f-4430-8d7c-0f342120a7ae"
      },
      "execution_count": 3,
      "outputs": [
        {
          "output_type": "display_data",
          "data": {
            "text/plain": [
              "<IPython.core.display.HTML object>"
            ],
            "text/html": [
              "\n",
              "     <input type=\"file\" id=\"files-c117ed84-b3c5-4478-a3c2-1b2761362a8e\" name=\"files[]\" multiple disabled\n",
              "        style=\"border:none\" />\n",
              "     <output id=\"result-c117ed84-b3c5-4478-a3c2-1b2761362a8e\">\n",
              "      Upload widget is only available when the cell has been executed in the\n",
              "      current browser session. Please rerun this cell to enable.\n",
              "      </output>\n",
              "      <script>// Copyright 2017 Google LLC\n",
              "//\n",
              "// Licensed under the Apache License, Version 2.0 (the \"License\");\n",
              "// you may not use this file except in compliance with the License.\n",
              "// You may obtain a copy of the License at\n",
              "//\n",
              "//      http://www.apache.org/licenses/LICENSE-2.0\n",
              "//\n",
              "// Unless required by applicable law or agreed to in writing, software\n",
              "// distributed under the License is distributed on an \"AS IS\" BASIS,\n",
              "// WITHOUT WARRANTIES OR CONDITIONS OF ANY KIND, either express or implied.\n",
              "// See the License for the specific language governing permissions and\n",
              "// limitations under the License.\n",
              "\n",
              "/**\n",
              " * @fileoverview Helpers for google.colab Python module.\n",
              " */\n",
              "(function(scope) {\n",
              "function span(text, styleAttributes = {}) {\n",
              "  const element = document.createElement('span');\n",
              "  element.textContent = text;\n",
              "  for (const key of Object.keys(styleAttributes)) {\n",
              "    element.style[key] = styleAttributes[key];\n",
              "  }\n",
              "  return element;\n",
              "}\n",
              "\n",
              "// Max number of bytes which will be uploaded at a time.\n",
              "const MAX_PAYLOAD_SIZE = 100 * 1024;\n",
              "\n",
              "function _uploadFiles(inputId, outputId) {\n",
              "  const steps = uploadFilesStep(inputId, outputId);\n",
              "  const outputElement = document.getElementById(outputId);\n",
              "  // Cache steps on the outputElement to make it available for the next call\n",
              "  // to uploadFilesContinue from Python.\n",
              "  outputElement.steps = steps;\n",
              "\n",
              "  return _uploadFilesContinue(outputId);\n",
              "}\n",
              "\n",
              "// This is roughly an async generator (not supported in the browser yet),\n",
              "// where there are multiple asynchronous steps and the Python side is going\n",
              "// to poll for completion of each step.\n",
              "// This uses a Promise to block the python side on completion of each step,\n",
              "// then passes the result of the previous step as the input to the next step.\n",
              "function _uploadFilesContinue(outputId) {\n",
              "  const outputElement = document.getElementById(outputId);\n",
              "  const steps = outputElement.steps;\n",
              "\n",
              "  const next = steps.next(outputElement.lastPromiseValue);\n",
              "  return Promise.resolve(next.value.promise).then((value) => {\n",
              "    // Cache the last promise value to make it available to the next\n",
              "    // step of the generator.\n",
              "    outputElement.lastPromiseValue = value;\n",
              "    return next.value.response;\n",
              "  });\n",
              "}\n",
              "\n",
              "/**\n",
              " * Generator function which is called between each async step of the upload\n",
              " * process.\n",
              " * @param {string} inputId Element ID of the input file picker element.\n",
              " * @param {string} outputId Element ID of the output display.\n",
              " * @return {!Iterable<!Object>} Iterable of next steps.\n",
              " */\n",
              "function* uploadFilesStep(inputId, outputId) {\n",
              "  const inputElement = document.getElementById(inputId);\n",
              "  inputElement.disabled = false;\n",
              "\n",
              "  const outputElement = document.getElementById(outputId);\n",
              "  outputElement.innerHTML = '';\n",
              "\n",
              "  const pickedPromise = new Promise((resolve) => {\n",
              "    inputElement.addEventListener('change', (e) => {\n",
              "      resolve(e.target.files);\n",
              "    });\n",
              "  });\n",
              "\n",
              "  const cancel = document.createElement('button');\n",
              "  inputElement.parentElement.appendChild(cancel);\n",
              "  cancel.textContent = 'Cancel upload';\n",
              "  const cancelPromise = new Promise((resolve) => {\n",
              "    cancel.onclick = () => {\n",
              "      resolve(null);\n",
              "    };\n",
              "  });\n",
              "\n",
              "  // Wait for the user to pick the files.\n",
              "  const files = yield {\n",
              "    promise: Promise.race([pickedPromise, cancelPromise]),\n",
              "    response: {\n",
              "      action: 'starting',\n",
              "    }\n",
              "  };\n",
              "\n",
              "  cancel.remove();\n",
              "\n",
              "  // Disable the input element since further picks are not allowed.\n",
              "  inputElement.disabled = true;\n",
              "\n",
              "  if (!files) {\n",
              "    return {\n",
              "      response: {\n",
              "        action: 'complete',\n",
              "      }\n",
              "    };\n",
              "  }\n",
              "\n",
              "  for (const file of files) {\n",
              "    const li = document.createElement('li');\n",
              "    li.append(span(file.name, {fontWeight: 'bold'}));\n",
              "    li.append(span(\n",
              "        `(${file.type || 'n/a'}) - ${file.size} bytes, ` +\n",
              "        `last modified: ${\n",
              "            file.lastModifiedDate ? file.lastModifiedDate.toLocaleDateString() :\n",
              "                                    'n/a'} - `));\n",
              "    const percent = span('0% done');\n",
              "    li.appendChild(percent);\n",
              "\n",
              "    outputElement.appendChild(li);\n",
              "\n",
              "    const fileDataPromise = new Promise((resolve) => {\n",
              "      const reader = new FileReader();\n",
              "      reader.onload = (e) => {\n",
              "        resolve(e.target.result);\n",
              "      };\n",
              "      reader.readAsArrayBuffer(file);\n",
              "    });\n",
              "    // Wait for the data to be ready.\n",
              "    let fileData = yield {\n",
              "      promise: fileDataPromise,\n",
              "      response: {\n",
              "        action: 'continue',\n",
              "      }\n",
              "    };\n",
              "\n",
              "    // Use a chunked sending to avoid message size limits. See b/62115660.\n",
              "    let position = 0;\n",
              "    do {\n",
              "      const length = Math.min(fileData.byteLength - position, MAX_PAYLOAD_SIZE);\n",
              "      const chunk = new Uint8Array(fileData, position, length);\n",
              "      position += length;\n",
              "\n",
              "      const base64 = btoa(String.fromCharCode.apply(null, chunk));\n",
              "      yield {\n",
              "        response: {\n",
              "          action: 'append',\n",
              "          file: file.name,\n",
              "          data: base64,\n",
              "        },\n",
              "      };\n",
              "\n",
              "      let percentDone = fileData.byteLength === 0 ?\n",
              "          100 :\n",
              "          Math.round((position / fileData.byteLength) * 100);\n",
              "      percent.textContent = `${percentDone}% done`;\n",
              "\n",
              "    } while (position < fileData.byteLength);\n",
              "  }\n",
              "\n",
              "  // All done.\n",
              "  yield {\n",
              "    response: {\n",
              "      action: 'complete',\n",
              "    }\n",
              "  };\n",
              "}\n",
              "\n",
              "scope.google = scope.google || {};\n",
              "scope.google.colab = scope.google.colab || {};\n",
              "scope.google.colab._files = {\n",
              "  _uploadFiles,\n",
              "  _uploadFilesContinue,\n",
              "};\n",
              "})(self);\n",
              "</script> "
            ]
          },
          "metadata": {}
        },
        {
          "output_type": "stream",
          "name": "stdout",
          "text": [
            "Saving height_weight.csv to height_weight.csv\n"
          ]
        }
      ]
    },
    {
      "cell_type": "code",
      "source": [
        "df = pd.read_csv(io.BytesIO(uploaded['height_weight.csv']), delimiter = ';')\n",
        "print(df)"
      ],
      "metadata": {
        "colab": {
          "base_uri": "https://localhost:8080/"
        },
        "id": "fbvf6I1hdnit",
        "outputId": "07552aa0-e945-44da-9125-a6fbbd44a2bd"
      },
      "execution_count": 4,
      "outputs": [
        {
          "output_type": "stream",
          "name": "stdout",
          "text": [
            "              H         W\n",
            "0      65.78331  112.9925\n",
            "1      71.51521  136.4873\n",
            "2      69.39874  153.0269\n",
            "3      68.21660  142.3354\n",
            "4      67.78781  144.2971\n",
            "...         ...       ...\n",
            "24995  69.50215  118.0312\n",
            "24996  64.54826  120.1932\n",
            "24997  64.69855  118.2655\n",
            "24998  67.52918  132.2682\n",
            "24999  68.87761  124.8742\n",
            "\n",
            "[25000 rows x 2 columns]\n"
          ]
        }
      ]
    },
    {
      "cell_type": "markdown",
      "source": [
        "Построим график распределния 2х переменных для предварительного анализа зависимости.<br> Для этого переменной $x$ присвоим значения из столбца H (height), а переменной $y$ - из столбца W (weight)."
      ],
      "metadata": {
        "id": "-_TJq153MoY5"
      }
    },
    {
      "cell_type": "code",
      "source": [
        "x = df['H']\n",
        "y = df['W']\n",
        "plt.scatter(x, y)"
      ],
      "metadata": {
        "colab": {
          "base_uri": "https://localhost:8080/",
          "height": 282
        },
        "id": "HxBqSsl8L23H",
        "outputId": "92733ed2-f612-4c8b-d686-8063f2cd3f76"
      },
      "execution_count": 5,
      "outputs": [
        {
          "output_type": "execute_result",
          "data": {
            "text/plain": [
              "<matplotlib.collections.PathCollection at 0x7f0c93ec2730>"
            ]
          },
          "metadata": {},
          "execution_count": 5
        },
        {
          "output_type": "display_data",
          "data": {
            "text/plain": [
              "<Figure size 432x288 with 1 Axes>"
            ],
            "image/png": "[encoded data removed]"
          },
          "metadata": {
            "needs_background": "light"
          }
        }
      ]
    },
    {
      "cell_type": "markdown",
      "source": [
        "График в общем виде походит на линейный."
      ],
      "metadata": {
        "id": "iXtIs80pNjYK"
      }
    },
    {
      "cell_type": "markdown",
      "source": [
        "Для определения статистической взаимосвязи между случайными величинами существует понятие <b>КОРРЕЛЯЦИЯ</b> - матиматический показатель, который указывает на то, что изменения значений одной величины влияют на другую.<br> А коэффициент корреляции показывает, насколько велика эта взаимосвязь. Обозначается $r$ и может принимать значения от -1 до 1 включительно.<br>Когда коэффициент корреляции близок к 1, между величинами наблюдается прямая связь: увеличение одной величины сопровождается увеличением другой, и аналогично уменьшение одной величины сопровождается уменьшением другой.<br>Если же коэффициент корреляции близок к -1, между величинами есть обратная корреляционная связь: увеличение одной величины сопровождается уменьшением другой и наоборот.<br>Коэффициент корреляции, близкий к 0, говорит о том, что между величинами нет связи.<br>В зависимости от характера переменных можно выбрать подходящий метод вычисления коэффициента корреляции.<br>Для интервальных и количественных признаков используется <b>коэффициент корреляции Пирсона ($r$)</b>, относящийся к параметрическим показателям корреляции. Если хотя бы один из двух признаков — порядковый или его распределение не является нормальным, применяют ранговую корреляцию Спирмена или $\\tau$ (тау) Кендалла — непараметрические показатели корреляции.<br> В нашем случае имеем нормальное распределение случайных величин (см графики ниже)\n",
        "\n"
      ],
      "metadata": {
        "id": "eGMLArMqNwHI"
      }
    },
    {
      "cell_type": "code",
      "source": [
        "plt.hist(x)"
      ],
      "metadata": {
        "colab": {
          "base_uri": "https://localhost:8080/",
          "height": 352
        },
        "id": "qKkliISvWqhc",
        "outputId": "b995fee5-ab19-4799-d3fc-622acf9089d6"
      },
      "execution_count": 6,
      "outputs": [
        {
          "output_type": "execute_result",
          "data": {
            "text/plain": [
              "(array([   9.,  136., 1003., 3248., 6644., 7406., 4548., 1681.,  291.,\n",
              "          34.]),\n",
              " array([60.27836 , 61.765804, 63.253248, 64.740692, 66.228136, 67.71558 ,\n",
              "        69.203024, 70.690468, 72.177912, 73.665356, 75.1528  ]),\n",
              " <a list of 10 Patch objects>)"
            ]
          },
          "metadata": {},
          "execution_count": 6
        },
        {
          "output_type": "display_data",
          "data": {
            "text/plain": [
              "<Figure size 432x288 with 1 Axes>"
            ],
            "image/png": "[encoded data removed]"
          },
          "metadata": {
            "needs_background": "light"
          }
        }
      ]
    },
    {
      "cell_type": "code",
      "source": [
        "plt.hist(y)"
      ],
      "metadata": {
        "colab": {
          "base_uri": "https://localhost:8080/",
          "height": 372
        },
        "id": "nD9lG5ydbnaD",
        "outputId": "332b46ad-9261-46a1-8744-ea6a548b93af"
      },
      "execution_count": 7,
      "outputs": [
        {
          "output_type": "execute_result",
          "data": {
            "text/plain": [
              "(array([  13.,  112.,  759., 2949., 6397., 7677., 4986., 1714.,  360.,\n",
              "          33.]),\n",
              " array([ 78.01476 ,  87.305684,  96.596608, 105.887532, 115.178456,\n",
              "        124.46938 , 133.760304, 143.051228, 152.342152, 161.633076,\n",
              "        170.924   ]),\n",
              " <a list of 10 Patch objects>)"
            ]
          },
          "metadata": {},
          "execution_count": 7
        },
        {
          "output_type": "display_data",
          "data": {
            "text/plain": [
              "<Figure size 432x288 with 1 Axes>"
            ],
            "image/png": "[encoded data removed]"
          },
          "metadata": {
            "needs_background": "light"
          }
        }
      ]
    },
    {
      "cell_type": "markdown",
      "source": [
        "<b>Ковариация</b>, или корреляционный момент — параметрический показатель, позволяющий судить о совместном распределении двух признаков. Равна математическому ожиданию произведения отклонений случайных величин:<br><br>$cov_{XY} = M[(X - M(X))(Y - M(Y))] = M(XY) - M(X)M(Y)=\\overline{X \\cdot Y} - \\overline{X} \\cdot \\overline{Y}$<br><br>где $M$ — математическое ожидание, $\\overline{X} \\: и \\:\\overline{Y}$ — среднее значение выборок."
      ],
      "metadata": {
        "id": "w1yrBAyqdlKU"
      }
    },
    {
      "cell_type": "markdown",
      "source": [
        "Размерность ковариации, которая равна произведению размерности случайных величин, имеет их масштаб,то есть величина ковариации зависит от единиц измерения независимых величин. В связи с этим ковариацию затруднительно применять для корреляционного анализа."
      ],
      "metadata": {
        "id": "GQbLgZoyer3Y"
      }
    },
    {
      "cell_type": "markdown",
      "source": [
        "Зная ковариацию и среднее квадратичное отклонение каждого из двух признаков, можно вычислить коэффициент корреляции Пирсона:<br><br>$r_{XY} = \\frac{cov_{XY}}{\\sigma_{X}\\sigma_{Y}}$"
      ],
      "metadata": {
        "id": "PAlVe-xne7Q0"
      }
    },
    {
      "cell_type": "markdown",
      "source": [
        "Определим коэффициент корреляции Пирсона для нашей зависимости.<br>Для начала посчитаем ковариацию:"
      ],
      "metadata": {
        "id": "UvkPeQmffGBi"
      }
    },
    {
      "cell_type": "code",
      "source": [
        "MX = x.mean()\n",
        "MY = y.mean()\n",
        "cov = ((x - MX) * (y - MY)).sum() / (x.shape[0] - 1)\n",
        "cov"
      ],
      "metadata": {
        "colab": {
          "base_uri": "https://localhost:8080/"
        },
        "id": "EUCkgyi8gu7B",
        "outputId": "95444372-1922-4613-8eed-b42408883e00"
      },
      "execution_count": 8,
      "outputs": [
        {
          "output_type": "execute_result",
          "data": {
            "text/plain": [
              "11.15102917356732"
            ]
          },
          "metadata": {},
          "execution_count": 8
        }
      ]
    },
    {
      "cell_type": "markdown",
      "source": [
        "проверка через библиотеку numpy:"
      ],
      "metadata": {
        "id": "df4pI3ImjmsZ"
      }
    },
    {
      "cell_type": "code",
      "source": [
        "np.cov(x, y)"
      ],
      "metadata": {
        "colab": {
          "base_uri": "https://localhost:8080/"
        },
        "id": "rii1omruihK2",
        "outputId": "06b8b06c-6167-4ad7-8f2f-824056515a41"
      },
      "execution_count": 9,
      "outputs": [
        {
          "output_type": "execute_result",
          "data": {
            "text/plain": [
              "array([[  3.61638215,  11.15102917],\n",
              "       [ 11.15102917, 135.97653199]])"
            ]
          },
          "metadata": {},
          "execution_count": 9
        }
      ]
    },
    {
      "cell_type": "markdown",
      "source": [
        "коэффициент корреляции Пирсона:"
      ],
      "metadata": {
        "id": "EM6YY1xbkFmS"
      }
    },
    {
      "cell_type": "code",
      "source": [
        "r_xy = cov / (x.std() * y.std())\n",
        "r_xy"
      ],
      "metadata": {
        "colab": {
          "base_uri": "https://localhost:8080/"
        },
        "id": "idDqSSC_l0Du",
        "outputId": "8683bf3b-d4a0-4093-e1dc-cb0a1b004178"
      },
      "execution_count": 10,
      "outputs": [
        {
          "output_type": "execute_result",
          "data": {
            "text/plain": [
              "0.5028585206028441"
            ]
          },
          "metadata": {},
          "execution_count": 10
        }
      ]
    },
    {
      "cell_type": "markdown",
      "source": [
        "проверка через библиотеку numpy:"
      ],
      "metadata": {
        "id": "khlVNEFjmRGf"
      }
    },
    {
      "cell_type": "code",
      "source": [
        "np.corrcoef(x, y)"
      ],
      "metadata": {
        "colab": {
          "base_uri": "https://localhost:8080/"
        },
        "id": "5xGtxgK9mRrc",
        "outputId": "8b67ee3e-579e-408d-8000-2343cf92a2a4"
      },
      "execution_count": 11,
      "outputs": [
        {
          "output_type": "execute_result",
          "data": {
            "text/plain": [
              "array([[1.        , 0.50285852],\n",
              "       [0.50285852, 1.        ]])"
            ]
          },
          "metadata": {},
          "execution_count": 11
        }
      ]
    },
    {
      "cell_type": "markdown",
      "source": [
        "Данный результат показывает, что связь между переменными $x$ и $y$ существует и зависимость прямая, т.е. увеличение одной переменной сопровождается увеличением другой. Но также данный результат показывает, что связь не сильная."
      ],
      "metadata": {
        "id": "mJuWy2vymkwz"
      }
    },
    {
      "cell_type": "markdown",
      "source": [
        "Рассмотрим связь наших переменных $x$ и $y$ через линейную функцию:<br><br>$y_i = a + bx_i + \\varepsilon_i$, где:<br><br>$a$ и $b$ — коэффициенты регрессии;<br>$\\varepsilon_i \\; $—  так называемый остаток — независимая случайная величина, имеющая нормальное распределение с математическим \n",
        "ожиданием, равным нулю, и постоянной дисперсией.<br>То есть это ошибка, которую будет допускать модель из-за того, что изменение признака $x$\n",
        "не всегда точно будет отражать изменение $y$.<br>В нашем случае данную величину учитывать не будем, т.о уравнение выглядит так:<br><br>$y = a + bx$"
      ],
      "metadata": {
        "id": "NXZ8Efr1nqIF"
      }
    },
    {
      "cell_type": "markdown",
      "source": [
        "Найдем коэффициенты линейной регрессии $a$ & $b$:"
      ],
      "metadata": {
        "id": "TLK5kokhrSdv"
      }
    },
    {
      "cell_type": "code",
      "source": [
        "n = x.shape[0]\n",
        "n"
      ],
      "metadata": {
        "colab": {
          "base_uri": "https://localhost:8080/"
        },
        "id": "sggYCReDrXMT",
        "outputId": "80be7b57-c5d6-4c1b-d437-1183611d1368"
      },
      "execution_count": 12,
      "outputs": [
        {
          "output_type": "execute_result",
          "data": {
            "text/plain": [
              "25000"
            ]
          },
          "metadata": {},
          "execution_count": 12
        }
      ]
    },
    {
      "cell_type": "code",
      "source": [
        "b = (np.mean(x * y) - np.mean(x) * np.mean(y)) / (np.mean(x**2) - np.mean(x) ** 2)\n",
        "a = a = np.mean(y) - b * np.mean(x)"
      ],
      "metadata": {
        "id": "VlxkCUSVr4GS"
      },
      "execution_count": 13,
      "outputs": []
    },
    {
      "cell_type": "code",
      "source": [
        "a"
      ],
      "metadata": {
        "colab": {
          "base_uri": "https://localhost:8080/"
        },
        "id": "sdEjppldsC-A",
        "outputId": "dcf86bc8-c32e-41df-eaa8-1b530613a5ad"
      },
      "execution_count": 14,
      "outputs": [
        {
          "output_type": "execute_result",
          "data": {
            "text/plain": [
              "-82.57574306439962"
            ]
          },
          "metadata": {},
          "execution_count": 14
        }
      ]
    },
    {
      "cell_type": "code",
      "source": [
        "b"
      ],
      "metadata": {
        "colab": {
          "base_uri": "https://localhost:8080/"
        },
        "id": "MSFda3qxsFAs",
        "outputId": "1fdfd0bc-dbf8-4e5f-f27d-0daad316ac15"
      },
      "execution_count": 15,
      "outputs": [
        {
          "output_type": "execute_result",
          "data": {
            "text/plain": [
              "3.0834764454008883"
            ]
          },
          "metadata": {},
          "execution_count": 15
        }
      ]
    },
    {
      "cell_type": "markdown",
      "source": [
        "Функция зависимости примет вид:<br><br>$y = -82.58 + 3.08 \\cdot x$"
      ],
      "metadata": {
        "id": "Of4KGc3YsV3C"
      }
    },
    {
      "cell_type": "markdown",
      "source": [
        "Определим значения $y$, которые будут предсказываться нашей моделью:"
      ],
      "metadata": {
        "id": "lXaP73qWs13s"
      }
    },
    {
      "cell_type": "code",
      "source": [
        "y_pred = a + b * x\n",
        "y_pred"
      ],
      "metadata": {
        "colab": {
          "base_uri": "https://localhost:8080/"
        },
        "id": "w1vwlDt6tWyH",
        "outputId": "24bc23f8-b59e-4cc1-a294-174665b986cb"
      },
      "execution_count": 16,
      "outputs": [
        {
          "output_type": "execute_result",
          "data": {
            "text/plain": [
              "0        120.265544\n",
              "1        137.939722\n",
              "2        131.413637\n",
              "3        127.768536\n",
              "4        126.446372\n",
              "            ...    \n",
              "24995    131.732499\n",
              "24996    116.457296\n",
              "24997    116.920712\n",
              "24998    125.648893\n",
              "24999    129.806745\n",
              "Name: H, Length: 25000, dtype: float64"
            ]
          },
          "metadata": {},
          "execution_count": 16
        }
      ]
    },
    {
      "cell_type": "markdown",
      "source": [
        "Определим насколько велика связь между переменными $x$ и $y$ через коэффициент детерминации. Его считают как квадрат коэффициента корреляции:<br><br>$R^2 = r^{2}_{xy}$ <br><br> при этом $r_{xy}$  можно посчитать как:<br><br>$r_{xy} =  b \\cdot {\\frac{\\sigma_x}{\\sigma_y}}$<br><br>Т.о."
      ],
      "metadata": {
        "id": "A_pEuXPuuMbe"
      }
    },
    {
      "cell_type": "code",
      "source": [
        "R2 = (b * np.std(x) / np.std(y))**2\n",
        "R2"
      ],
      "metadata": {
        "colab": {
          "base_uri": "https://localhost:8080/"
        },
        "id": "QxVDThe1vAFT",
        "outputId": "9eb6e3e6-092f-4196-a9e8-406c78065e31"
      },
      "execution_count": 17,
      "outputs": [
        {
          "output_type": "execute_result",
          "data": {
            "text/plain": [
              "0.2528666917425402"
            ]
          },
          "metadata": {},
          "execution_count": 17
        }
      ]
    },
    {
      "cell_type": "markdown",
      "source": [
        "Как видим - связь между перменными имеется, но слабая."
      ],
      "metadata": {
        "id": "zhcDr0-Ov3xG"
      }
    },
    {
      "cell_type": "markdown",
      "source": [
        "Визуализируем зависимость (точки - исходные данные, линия - модель)"
      ],
      "metadata": {
        "id": "q_jJM7RpwEZn"
      }
    },
    {
      "cell_type": "code",
      "source": [
        "plt.scatter(x, y)\n",
        "plt.plot(x, y_pred, color = 'red')\n",
        "plt.show()"
      ],
      "metadata": {
        "colab": {
          "base_uri": "https://localhost:8080/",
          "height": 265
        },
        "id": "3dLa6LPlwI8l",
        "outputId": "103fc9ef-a6f8-4c35-93c3-6ff5eb902f61"
      },
      "execution_count": 18,
      "outputs": [
        {
          "output_type": "display_data",
          "data": {
            "text/plain": [
              "<Figure size 432x288 with 1 Axes>"
            ],
            "image/png": "[encoded data removed]"
          },
          "metadata": {
            "needs_background": "light"
          }
        }
      ]
    },
    {
      "cell_type": "markdown",
      "source": [
        "Что бы определить качество работы полученной модели, найдем среднюю ошибку аппроксимации $\\overline {A}$:<br><br>$\\overline{A} = \\frac{1}{n} \\sum\\limits_{i=1}^{n} \\Bigl |{{\\frac{y_i - \\hat{y}_i}{y_i}} \\Bigr |} \\cdot{100\\%}$<br><br>если $\\overline{A}$ не превышает 8-10 %, можно сказать, что теоретические значения близки к тем, которые выдает модель линейной регрессии."
      ],
      "metadata": {
        "id": "-1H5pujIPYdk"
      }
    },
    {
      "cell_type": "code",
      "source": [
        "A_mean = 100 * np.mean(np.abs((y - y_pred) / y))\n",
        "A_mean\n"
      ],
      "metadata": {
        "colab": {
          "base_uri": "https://localhost:8080/"
        },
        "id": "v0tfoNSwPZ_7",
        "outputId": "e01d0043-39ef-45a1-f388-98aac1fcd54d"
      },
      "execution_count": 19,
      "outputs": [
        {
          "output_type": "execute_result",
          "data": {
            "text/plain": [
              "6.427490946001704"
            ]
          },
          "metadata": {},
          "execution_count": 19
        }
      ]
    },
    {
      "cell_type": "markdown",
      "source": [
        "Для оценки значимости уравнения регрессии воспользуемся F-критерием Фишера.<br>Найдем фактическое значение $F$-критерия ($F_{факт}$) для парной линейной регрессии (когда есть только один факторный признак) по формуле:<br><br> $F_{факт} = \\frac{r_{xy}^{2} \\cdot (n - 2)}{(1 - r_{xy}^{2})}$"
      ],
      "metadata": {
        "id": "CdzBQzYnLWor"
      }
    },
    {
      "cell_type": "code",
      "source": [
        "F_fact = (R2 * (n - 2)) / (1 - R2)\n",
        "F_fact"
      ],
      "metadata": {
        "colab": {
          "base_uri": "https://localhost:8080/"
        },
        "id": "RDoEJjtMMHxE",
        "outputId": "e8a82d84-2db8-499a-bf00-fdddb63d2181"
      },
      "execution_count": 20,
      "outputs": [
        {
          "output_type": "execute_result",
          "data": {
            "text/plain": [
              "8460.55381324502"
            ]
          },
          "metadata": {},
          "execution_count": 20
        }
      ]
    },
    {
      "cell_type": "markdown",
      "source": [
        "При 5 % уровне значимости и степенях свободы $k_1 = 1$ и $k_2 = 25000 - 2 = 24998$ табличное значение критерия: $F_{кр} = 3.84$.\n",
        "\n",
        "Так как $F_{факт} = 8460.55 > F_{кр} = 3.84$, уравнение регрессии признаем статистически значимым."
      ],
      "metadata": {
        "id": "C6kJOac9bjge"
      }
    },
    {
      "cell_type": "markdown",
      "source": [
        "С помощью  **t-статистики Стьюдента** произведем оценку статистической значимости параметров регрессии.<br>*Значение* уровня значимости $\\alpha$ выбирается статистиком произвольно, например, 0.05.<br>Число степеней свободы равно $df = n - m -1$, где $n$ — число наблюдений и $m$ — число признаков (факторов).<br>В нашем случае число степеней свободы будет равно $n - 2$.<br>Наблюдаемые значения критерия $t_a = \\frac{a}{m_a}$ и $t_b = \\frac{b}{m_b}$ сравниваются с табличными.<br>Если расчетное значение критерия $t_a$, $t_b$ больше табличного значения $t_{кр}$ при заданном  уровне значимости $\\alpha$ (0,05), то коэффициент регрессии считается значимым."
      ],
      "metadata": {
        "id": "AxLJAcl9jXoe"
      }
    },
    {
      "cell_type": "markdown",
      "source": [
        "Найдем случайные ошибки $m_a$ и $m_b$:<br><br>$m_a  = S_{ост} \\cdot {\\frac{\\sqrt{\\sum{x^2}}}{n \\cdot {\\sigma_x}}}$<br><br>$m_b = \\frac{S_{ост}}{\\sigma_x \\cdot{\\sqrt{n}}}$<br><br>Стандартная ошибка определяется по формуле:<br><br>$S_{ост} = \\sqrt{\\frac{\\sum\\limits_{i=1}^{n}(y_i - \\hat{y}_i)^2}{n - 2}}$"
      ],
      "metadata": {
        "id": "Gf_Pv5FSmQGM"
      }
    },
    {
      "cell_type": "code",
      "source": [
        "S = np.sqrt(np.sum((y - y_pred)**2) / (n - 2))\n",
        "\n",
        "m_a = S * np.sqrt(np.sum(x ** 2)) / (n * np.std(x))\n",
        "m_b = S / (np.std(x) * np.sqrt(n))\n",
        "\n",
        "print('S = {}\\nm_a = {}\\nm_b = {}'.format(S, m_a, m_b))\n"
      ],
      "metadata": {
        "colab": {
          "base_uri": "https://localhost:8080/"
        },
        "id": "ztoYx2aym7C4",
        "outputId": "44de78d1-06b4-4d7c-f00d-4153acf184df"
      },
      "execution_count": 21,
      "outputs": [
        {
          "output_type": "stream",
          "name": "stdout",
          "text": [
            "S = 10.079516864371328\n",
            "m_a = 2.2802158393657654\n",
            "m_b = 0.03352287357031325\n"
          ]
        }
      ]
    },
    {
      "cell_type": "markdown",
      "source": [
        "При $df = n - 2 = 10 - 2 = 8$ и $\\alpha = 0.05$ получим:<br><br>$t_{кр} = 1.9623391$"
      ],
      "metadata": {
        "id": "fTCXjNukncnN"
      }
    },
    {
      "cell_type": "markdown",
      "source": [
        "Вычислим наблюдаемые значения критерия $t_a$ и $t_b$:"
      ],
      "metadata": {
        "id": "lqXJNTB1oN4F"
      }
    },
    {
      "cell_type": "code",
      "source": [
        "t_a = a / m_a\n",
        "t_a"
      ],
      "metadata": {
        "colab": {
          "base_uri": "https://localhost:8080/"
        },
        "id": "bSu2XdzwoOmX",
        "outputId": "91805b0a-c081-4481-a43d-268b4cc36ef0"
      },
      "execution_count": 22,
      "outputs": [
        {
          "output_type": "execute_result",
          "data": {
            "text/plain": [
              "-36.214002919727015"
            ]
          },
          "metadata": {},
          "execution_count": 22
        }
      ]
    },
    {
      "cell_type": "code",
      "source": [
        "t_b = b / m_b\n",
        "t_b"
      ],
      "metadata": {
        "colab": {
          "base_uri": "https://localhost:8080/"
        },
        "id": "ZTY6_1PToTEY",
        "outputId": "f020b7ff-0c64-4cc2-d918-bd3409b17b63"
      },
      "execution_count": 23,
      "outputs": [
        {
          "output_type": "execute_result",
          "data": {
            "text/plain": [
              "91.98126881734605"
            ]
          },
          "metadata": {},
          "execution_count": 23
        }
      ]
    },
    {
      "cell_type": "markdown",
      "source": [
        "Так как фактические значения t-статистики больше табличного значения(по модулю), то параметры $a$ и $b$ считаем статистически значимыми."
      ],
      "metadata": {
        "id": "PXccCBc3qY-o"
      }
    },
    {
      "cell_type": "markdown",
      "source": [
        "Рассчитаем доверительные интервалы для параметров регрессии $a$ и $b$. Для этого определим предельную ошибку для каждого показателя ($\\Delta_a$ и $\\Delta_b$)"
      ],
      "metadata": {
        "id": "SGHnDk1-tqjl"
      }
    },
    {
      "cell_type": "code",
      "source": [
        "t = 1.9623391\n",
        "delta_a = t * m_a\n",
        "delta_a"
      ],
      "metadata": {
        "colab": {
          "base_uri": "https://localhost:8080/"
        },
        "id": "vHqn827au_g-",
        "outputId": "a512e03c-aceb-4e87-df6d-5ba8e821c7b4"
      },
      "execution_count": 24,
      "outputs": [
        {
          "output_type": "execute_result",
          "data": {
            "text/plain": [
              "4.474556698026761"
            ]
          },
          "metadata": {},
          "execution_count": 24
        }
      ]
    },
    {
      "cell_type": "code",
      "source": [
        "delta_b = t * m_b\n",
        "delta_b"
      ],
      "metadata": {
        "colab": {
          "base_uri": "https://localhost:8080/"
        },
        "id": "857HGQ1OvKdm",
        "outputId": "33415afa-03d0-4a90-91bf-6a134950fd42"
      },
      "execution_count": 25,
      "outputs": [
        {
          "output_type": "execute_result",
          "data": {
            "text/plain": [
              "0.06578324555138229"
            ]
          },
          "metadata": {},
          "execution_count": 25
        }
      ]
    },
    {
      "cell_type": "markdown",
      "source": [
        "Найдем границы доверительных интервалов $\\gamma_{a_{min}}, \\gamma_{a_{max}}, \\gamma_{b_{min}}, \\gamma_{b_{max}}$:"
      ],
      "metadata": {
        "id": "dvMpZUrkvT3U"
      }
    },
    {
      "cell_type": "code",
      "source": [
        "gamma_a_min = a - delta_a\n",
        "gamma_a_min"
      ],
      "metadata": {
        "colab": {
          "base_uri": "https://localhost:8080/"
        },
        "id": "jfZLXNWbvUrK",
        "outputId": "67bff9dc-55e7-48f9-91cf-ab8ea913237c"
      },
      "execution_count": 26,
      "outputs": [
        {
          "output_type": "execute_result",
          "data": {
            "text/plain": [
              "-87.05029976242638"
            ]
          },
          "metadata": {},
          "execution_count": 26
        }
      ]
    },
    {
      "cell_type": "code",
      "source": [
        "gamma_a_max = a + delta_a\n",
        "gamma_a_max"
      ],
      "metadata": {
        "colab": {
          "base_uri": "https://localhost:8080/"
        },
        "id": "ZnraPvDzvaQl",
        "outputId": "dde57248-2f13-49b0-c46b-83eb6f5714a0"
      },
      "execution_count": 27,
      "outputs": [
        {
          "output_type": "execute_result",
          "data": {
            "text/plain": [
              "-78.10118636637286"
            ]
          },
          "metadata": {},
          "execution_count": 27
        }
      ]
    },
    {
      "cell_type": "code",
      "source": [
        "gamma_b_min = b - delta_b\n",
        "gamma_b_min"
      ],
      "metadata": {
        "colab": {
          "base_uri": "https://localhost:8080/"
        },
        "id": "ViUqXqJevd7C",
        "outputId": "220edbb6-d593-41a2-8fa9-ed17037b7719"
      },
      "execution_count": 28,
      "outputs": [
        {
          "output_type": "execute_result",
          "data": {
            "text/plain": [
              "3.017693199849506"
            ]
          },
          "metadata": {},
          "execution_count": 28
        }
      ]
    },
    {
      "cell_type": "code",
      "source": [
        "gamma_b_max = b + delta_b\n",
        "gamma_b_max"
      ],
      "metadata": {
        "colab": {
          "base_uri": "https://localhost:8080/"
        },
        "id": "_m9IyYx5viTW",
        "outputId": "a01e4bf6-9851-4cee-aad9-26b3af556f28"
      },
      "execution_count": 29,
      "outputs": [
        {
          "output_type": "execute_result",
          "data": {
            "text/plain": [
              "3.1492596909522708"
            ]
          },
          "metadata": {},
          "execution_count": 29
        }
      ]
    },
    {
      "cell_type": "markdown",
      "source": [
        "# **Вывод**"
      ],
      "metadata": {
        "id": "4PAP7f8Gvr3l"
      }
    },
    {
      "cell_type": "markdown",
      "source": [
        "Рассматриваемая зависимость веса (y) подростков 18 лет от роста (x), представленная в виде функции<br> $y = -82.58 + 3.08 \\cdot x$<br>статистически значима и прямая, т.е. увеличение одной перменной сопровождается увеличением другой. При этом, коэффициенты $a$ и $b$, которые находятся в интервале [-87.0503; -78.1012] и [3.0177; 3.1493] соответственно, так же статистически значемы. Но при этом коэффициент детерминации $R^2$ указывает на то, что влияние(связь) роста на вес подростков слабо и существует другой параметр или множество параметров, которые в своей сумме имеют большее влияние(большую связь) на вес подростка, чем рост."
      ],
      "metadata": {
        "id": "588qsvtUwKfx"
      }
    }
  ]
}