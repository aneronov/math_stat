{
  "nbformat": 4,
  "nbformat_minor": 0,
  "metadata": {
    "colab": {
      "provenance": []
    },
    "kernelspec": {
      "name": "python3",
      "display_name": "Python 3"
    },
    "language_info": {
      "name": "python"
    }
  },
  "cells": [
    {
      "cell_type": "markdown",
      "source": [
        "Провести дисперсионный анализ для определения того, есть ли различия среднего роста среди взрослых футболистов, хоккеистов и штангистов. Даны значения роста в трех группах случайно выбранных спортсменов: Футболисты: 173, 175, 180, 178,\n",
        "177, 185, 183, 182. Хоккеисты: 177, 179, 180, 188, 177, 172, 171, 184, 180.\n",
        "Штангисты: 172, 173, 169, 177, 166, 180, 178, 177, 172, 166, 170. alpha = 0.05."
      ],
      "metadata": {
        "id": "_JOoFK0XiEfV"
      }
    },
    {
      "cell_type": "markdown",
      "source": [
        "примем:\n",
        "\n",
        "1 группа - футболисты\n",
        "\n",
        "2 группа - хоккеисты\n",
        "\n",
        "3 группа - штангисты"
      ],
      "metadata": {
        "id": "2KYqiNKMiiPx"
      }
    },
    {
      "cell_type": "code",
      "source": [
        "import numpy as np\n",
        "y1 = np.array([173, 175, 180, 178, 177, 185, 183, 182])\n",
        "n1 = len(y1)\n",
        "y2 = np.array([177, 179, 180, 188, 177, 172, 171, 184, 180])\n",
        "n2 = len(y2)\n",
        "y3 = np.array([172, 173, 169, 177, 166, 180, 178, 177, 172, 166, 170])\n",
        "n3 = len(y3)\n",
        "alpha = 0.05\n",
        "n = n1 + n2 + n3\n",
        "k = 3 #колличество групп\n",
        "n"
      ],
      "metadata": {
        "colab": {
          "base_uri": "https://localhost:8080/"
        },
        "id": "uuAo94nkiFuI",
        "outputId": "6f7357f1-eeb0-456e-eb5e-30c8fbfdb9d8"
      },
      "execution_count": 16,
      "outputs": [
        {
          "output_type": "execute_result",
          "data": {
            "text/plain": [
              "28"
            ]
          },
          "metadata": {},
          "execution_count": 16
        }
      ]
    },
    {
      "cell_type": "markdown",
      "source": [
        "Проведем однофакторный дисперсионный анализ. Сначала найдем средний рост для каждой группы:"
      ],
      "metadata": {
        "id": "ML3yZzEvmq-Z"
      }
    },
    {
      "cell_type": "code",
      "source": [
        "y1_mean = np.mean(y1)\n",
        "print(y1_mean)"
      ],
      "metadata": {
        "colab": {
          "base_uri": "https://localhost:8080/"
        },
        "id": "uu-FRKRomwrj",
        "outputId": "11b7c329-5f47-4c0e-9859-a503cab90e3e"
      },
      "execution_count": 2,
      "outputs": [
        {
          "output_type": "stream",
          "name": "stdout",
          "text": [
            "179.125\n"
          ]
        }
      ]
    },
    {
      "cell_type": "code",
      "source": [
        "y2_mean = np.mean(y2)\n",
        "print(y2_mean)"
      ],
      "metadata": {
        "colab": {
          "base_uri": "https://localhost:8080/"
        },
        "id": "w6t-ZXfM0rx-",
        "outputId": "30293e2c-5752-4682-890c-af5a94329ce3"
      },
      "execution_count": 3,
      "outputs": [
        {
          "output_type": "stream",
          "name": "stdout",
          "text": [
            "178.66666666666666\n"
          ]
        }
      ]
    },
    {
      "cell_type": "code",
      "source": [
        "y3_mean = np.mean(y3)\n",
        "print(y3_mean)"
      ],
      "metadata": {
        "colab": {
          "base_uri": "https://localhost:8080/"
        },
        "id": "lUCQ1OjE0ujb",
        "outputId": "ceb7e089-bf9c-46ad-f265-3ea2e45ff42f"
      },
      "execution_count": 4,
      "outputs": [
        {
          "output_type": "stream",
          "name": "stdout",
          "text": [
            "172.72727272727272\n"
          ]
        }
      ]
    },
    {
      "cell_type": "markdown",
      "source": [
        "соберем все значения по росту в один массив:"
      ],
      "metadata": {
        "id": "3AV1OaZq03uI"
      }
    },
    {
      "cell_type": "code",
      "source": [
        "y_all = np.concatenate([y1, y2, y3])\n",
        "y_all"
      ],
      "metadata": {
        "colab": {
          "base_uri": "https://localhost:8080/"
        },
        "id": "7aFMlDZj1XvB",
        "outputId": "a1fc9572-6e98-4806-edda-783c122224f9"
      },
      "execution_count": 5,
      "outputs": [
        {
          "output_type": "execute_result",
          "data": {
            "text/plain": [
              "array([173, 175, 180, 178, 177, 185, 183, 182, 177, 179, 180, 188, 177,\n",
              "       172, 171, 184, 180, 172, 173, 169, 177, 166, 180, 178, 177, 172,\n",
              "       166, 170])"
            ]
          },
          "metadata": {},
          "execution_count": 5
        }
      ]
    },
    {
      "cell_type": "markdown",
      "source": [
        "средний рост объединенной группы:"
      ],
      "metadata": {
        "id": "Ih9TWLKG1i1e"
      }
    },
    {
      "cell_type": "code",
      "source": [
        "y_mean = np.mean(y_all)\n",
        "y_mean"
      ],
      "metadata": {
        "colab": {
          "base_uri": "https://localhost:8080/"
        },
        "id": "igB8bqQL1b9k",
        "outputId": "7907310f-29ae-4c51-8341-06c39e9b7d02"
      },
      "execution_count": 6,
      "outputs": [
        {
          "output_type": "execute_result",
          "data": {
            "text/plain": [
              "176.46428571428572"
            ]
          },
          "metadata": {},
          "execution_count": 6
        }
      ]
    },
    {
      "cell_type": "code",
      "source": [
        "s2 = np.sum((y_all - y_mean)**2)\n",
        "s2"
      ],
      "metadata": {
        "colab": {
          "base_uri": "https://localhost:8080/"
        },
        "id": "JrWOaVpt3nnH",
        "outputId": "50c142fa-f1e6-4ac8-df13-d64e6ca8904f"
      },
      "execution_count": 7,
      "outputs": [
        {
          "output_type": "execute_result",
          "data": {
            "text/plain": [
              "830.9642857142854"
            ]
          },
          "metadata": {},
          "execution_count": 7
        }
      ]
    },
    {
      "cell_type": "code",
      "source": [
        "s2_f = ((y1_mean - y_mean)**2) * n1 + ((y2_mean - y_mean)**2) * n2 + ((y3_mean - y_mean)**2) * n3\n",
        "s2_f"
      ],
      "metadata": {
        "colab": {
          "base_uri": "https://localhost:8080/"
        },
        "id": "2FueAayu5mWK",
        "outputId": "29120a88-0b10-4234-df8f-c6c25cb3ab0b"
      },
      "execution_count": 8,
      "outputs": [
        {
          "output_type": "execute_result",
          "data": {
            "text/plain": [
              "253.9074675324678"
            ]
          },
          "metadata": {},
          "execution_count": 8
        }
      ]
    },
    {
      "cell_type": "code",
      "source": [
        "s2_ost = np.sum((y1 - y1_mean) ** 2) + np.sum((y2 - y2_mean) ** 2) + np.sum((y3 - y3_mean) ** 2)\n",
        "s2_ost"
      ],
      "metadata": {
        "colab": {
          "base_uri": "https://localhost:8080/"
        },
        "id": "3jtCZMos5sf0",
        "outputId": "7e821609-92b3-4221-811b-0e31b22f4c26"
      },
      "execution_count": 9,
      "outputs": [
        {
          "output_type": "execute_result",
          "data": {
            "text/plain": [
              "577.0568181818182"
            ]
          },
          "metadata": {},
          "execution_count": 9
        }
      ]
    },
    {
      "cell_type": "code",
      "source": [
        "s2_f + s2_ost"
      ],
      "metadata": {
        "colab": {
          "base_uri": "https://localhost:8080/"
        },
        "id": "BbBZtV7C5-Iv",
        "outputId": "a872f765-fbfd-4a0e-daca-b8aed3dc4755"
      },
      "execution_count": 11,
      "outputs": [
        {
          "output_type": "execute_result",
          "data": {
            "text/plain": [
              "830.964285714286"
            ]
          },
          "metadata": {},
          "execution_count": 11
        }
      ]
    },
    {
      "cell_type": "markdown",
      "source": [
        "Найдем дисперсии:"
      ],
      "metadata": {
        "id": "yttiRtGL6QYl"
      }
    },
    {
      "cell_type": "code",
      "source": [
        "sigma2_general = s2 / (n - 1)\n",
        "sigma2_general"
      ],
      "metadata": {
        "colab": {
          "base_uri": "https://localhost:8080/"
        },
        "id": "cCzUAfFu6Tyj",
        "outputId": "4f6c63ab-d9f2-4541-f491-166f057a2aa2"
      },
      "execution_count": 12,
      "outputs": [
        {
          "output_type": "execute_result",
          "data": {
            "text/plain": [
              "30.776455026455015"
            ]
          },
          "metadata": {},
          "execution_count": 12
        }
      ]
    },
    {
      "cell_type": "code",
      "source": [
        "sigma2_f = s2_f / (k - 1)\n",
        "sigma2_f"
      ],
      "metadata": {
        "colab": {
          "base_uri": "https://localhost:8080/"
        },
        "id": "C9jpE5ey8D0R",
        "outputId": "aa248d16-715d-487f-ba95-4c35c2ba2bb8"
      },
      "execution_count": 13,
      "outputs": [
        {
          "output_type": "execute_result",
          "data": {
            "text/plain": [
              "126.9537337662339"
            ]
          },
          "metadata": {},
          "execution_count": 13
        }
      ]
    },
    {
      "cell_type": "code",
      "source": [
        "sigma2_ost = s2_ost / (n - k)\n",
        "sigma2_ost"
      ],
      "metadata": {
        "colab": {
          "base_uri": "https://localhost:8080/"
        },
        "id": "vr_e6frS8H1R",
        "outputId": "7b928f90-7e7a-432b-8514-281397e2832d"
      },
      "execution_count": 14,
      "outputs": [
        {
          "output_type": "execute_result",
          "data": {
            "text/plain": [
              "23.08227272727273"
            ]
          },
          "metadata": {},
          "execution_count": 14
        }
      ]
    },
    {
      "cell_type": "code",
      "source": [
        "F_h = sigma2_f / sigma2_ost\n",
        "F_h"
      ],
      "metadata": {
        "colab": {
          "base_uri": "https://localhost:8080/"
        },
        "id": "J9lBX34J8WR0",
        "outputId": "518eda4c-0567-47e7-c422-5e5064ae825a"
      },
      "execution_count": 15,
      "outputs": [
        {
          "output_type": "execute_result",
          "data": {
            "text/plain": [
              "5.500053450812598"
            ]
          },
          "metadata": {},
          "execution_count": 15
        }
      ]
    },
    {
      "cell_type": "code",
      "source": [
        "F_tab = 3.38 #Распределение Фишера–Снедекора (F-распределение) "
      ],
      "metadata": {
        "id": "rLcA0A-yDHq_"
      },
      "execution_count": null,
      "outputs": []
    },
    {
      "cell_type": "markdown",
      "source": [
        "Так как $F_H > F_{таб}$, то различие средних значений роста спортсменов в 3х группах статистически значимо"
      ],
      "metadata": {
        "id": "eqgjZEJhEDuh"
      }
    }
  ]
}