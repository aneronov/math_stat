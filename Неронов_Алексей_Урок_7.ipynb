{
  "nbformat": 4,
  "nbformat_minor": 0,
  "metadata": {
    "colab": {
      "provenance": []
    },
    "kernelspec": {
      "name": "python3",
      "display_name": "Python 3"
    },
    "language_info": {
      "name": "python"
    }
  },
  "cells": [
    {
      "cell_type": "markdown",
      "source": [
        "# **Задание 1**"
      ],
      "metadata": {
        "id": "GXW3JexeH5cB"
      }
    },
    {
      "cell_type": "code",
      "execution_count": 14,
      "metadata": {
        "id": "rtBjsAivhSdP"
      },
      "outputs": [],
      "source": [
        "import numpy as np\n",
        "import pandas as pd\n",
        "import matplotlib.pyplot as plt\n",
        "%matplotlib inline"
      ]
    },
    {
      "cell_type": "code",
      "source": [
        "zp = np.array([35, 45, 190, 200, 40, 70, 54, 150, 120, 110]) #значения величины заработной платы заемщиков банка\n",
        "ks = np.array([401, 574, 874, 919, 459, 739, 653, 902, 746, 832]) #значения поведенческого кредитного скоринга заемщиков банка\n",
        "n = 10 #колличество измерений"
      ],
      "metadata": {
        "id": "9-9miU68lGyw"
      },
      "execution_count": 15,
      "outputs": []
    },
    {
      "cell_type": "markdown",
      "source": [
        "Используя математические операции, посчитать коэффициенты линейной регрессии, приняв за X заработную плату (то есть, zp - признак), а за y - значения скорингового балла (то есть, ks - целевая переменная)."
      ],
      "metadata": {
        "id": "xDcdvXzhmVT1"
      }
    },
    {
      "cell_type": "markdown",
      "source": [
        "Находим коэффициенты линейной регрессии a & b:"
      ],
      "metadata": {
        "id": "cOJhTN9Zpnwc"
      }
    },
    {
      "cell_type": "code",
      "source": [
        "x = zp\n",
        "y = ks\n",
        "n = 10\n",
        "b = (np.mean(x * y) - np.mean(x) * np.mean(y)) / (np.mean(x**2) - np.mean(x) ** 2)\n",
        "a = a = np.mean(y) - b * np.mean(x)"
      ],
      "metadata": {
        "id": "CSiNiYQSmC4z"
      },
      "execution_count": 16,
      "outputs": []
    },
    {
      "cell_type": "code",
      "source": [
        "a"
      ],
      "metadata": {
        "colab": {
          "base_uri": "https://localhost:8080/"
        },
        "id": "ILgqel7bqFM0",
        "outputId": "12ae699b-d395-4322-cf8f-4282efd8dffc"
      },
      "execution_count": 17,
      "outputs": [
        {
          "output_type": "execute_result",
          "data": {
            "text/plain": [
              "444.1773573243596"
            ]
          },
          "metadata": {},
          "execution_count": 17
        }
      ]
    },
    {
      "cell_type": "code",
      "source": [
        "b"
      ],
      "metadata": {
        "colab": {
          "base_uri": "https://localhost:8080/"
        },
        "id": "YZZ5FrKnqHQY",
        "outputId": "ad618b4c-122d-4e51-ff86-4b1db8bdf16f"
      },
      "execution_count": 18,
      "outputs": [
        {
          "output_type": "execute_result",
          "data": {
            "text/plain": [
              "2.620538882402765"
            ]
          },
          "metadata": {},
          "execution_count": 18
        }
      ]
    },
    {
      "cell_type": "markdown",
      "source": [
        "Т.о. уравнение линейной регрессии имеет вид:\n",
        "\n",
        "$y = 444.18 + 2.62 \\cdot x$"
      ],
      "metadata": {
        "id": "i3C88S2IqZ1b"
      }
    },
    {
      "cell_type": "markdown",
      "source": [
        "посчитаем значения, предсказанные моделью:"
      ],
      "metadata": {
        "id": "sZOgGc9nswyR"
      }
    },
    {
      "cell_type": "code",
      "source": [
        "y_pred = a + b * x\n",
        "y_pred"
      ],
      "metadata": {
        "colab": {
          "base_uri": "https://localhost:8080/"
        },
        "id": "qqrSF9smsypU",
        "outputId": "ffb46ab6-6cdc-48fd-b77a-5174b123f5e3"
      },
      "execution_count": 19,
      "outputs": [
        {
          "output_type": "execute_result",
          "data": {
            "text/plain": [
              "array([535.89621821, 562.10160703, 942.07974498, 968.2851338 ,\n",
              "       548.99891262, 627.61507909, 585.68645697, 837.25818968,\n",
              "       758.64202321, 732.43663439])"
            ]
          },
          "metadata": {},
          "execution_count": 19
        }
      ]
    },
    {
      "cell_type": "markdown",
      "source": [
        "Найдем коэффициент детерминации  R2 :"
      ],
      "metadata": {
        "id": "sNPXIUEasdN5"
      }
    },
    {
      "cell_type": "code",
      "source": [
        "R2 = (b * np.std(x) / np.std(y))**2\n",
        "R2"
      ],
      "metadata": {
        "colab": {
          "base_uri": "https://localhost:8080/"
        },
        "id": "Nzb0Veknql58",
        "outputId": "dd12c03d-1f43-4858-91aa-f4b06033ff8b"
      },
      "execution_count": 20,
      "outputs": [
        {
          "output_type": "execute_result",
          "data": {
            "text/plain": [
              "0.7876386635293682"
            ]
          },
          "metadata": {},
          "execution_count": 20
        }
      ]
    },
    {
      "cell_type": "markdown",
      "source": [
        "Визуализируем зависимость (точки - исходные данные, линия - модель)"
      ],
      "metadata": {
        "id": "SfVrDBsd1jf-"
      }
    },
    {
      "cell_type": "code",
      "source": [
        "plt.scatter(x,y)\n",
        "plt.plot(x, y_pred)\n",
        "plt.xlabel('Величина заработной платы')\n",
        "plt.ylabel('Поведенческий кредитный скоринг', rotation=90)\n",
        "plt.show()"
      ],
      "metadata": {
        "colab": {
          "base_uri": "https://localhost:8080/",
          "height": 279
        },
        "id": "eYdDJO0CNT43",
        "outputId": "2e6cfa30-7f77-44e1-bab6-83f3ce4d55b8"
      },
      "execution_count": 22,
      "outputs": [
        {
          "output_type": "display_data",
          "data": {
            "text/plain": [
              "<Figure size 432x288 with 1 Axes>"
            ],
            "image/png": "[encoded data removed]"
          },
          "metadata": {
            "needs_background": "light"
          }
        }
      ]
    },
    {
      "cell_type": "markdown",
      "source": [
        "Качество модели найдем с помощью средней ошибки аппроксимации $\\overline {A}$:"
      ],
      "metadata": {
        "id": "DsuszswaU4Yl"
      }
    },
    {
      "cell_type": "code",
      "source": [
        "A_mean = 100 * np.mean(np.abs((y - y_pred) / y))\n",
        "A_mean\n"
      ],
      "metadata": {
        "colab": {
          "base_uri": "https://localhost:8080/"
        },
        "id": "Ynbw4drKU2yF",
        "outputId": "27b75094-3fa2-4fd0-b02c-bf02169dfd2c"
      },
      "execution_count": 23,
      "outputs": [
        {
          "output_type": "execute_result",
          "data": {
            "text/plain": [
              "11.46925184356171"
            ]
          },
          "metadata": {},
          "execution_count": 23
        }
      ]
    },
    {
      "cell_type": "markdown",
      "source": [
        "Так как $\\overline {A}$ равна 11,5%, что превышает 8-10 %, модель удовлетворительно описывает эмпирические данные. Для оценки значимости \n",
        "\n",
        "уравнения регрессии воспользуемся F-критерием Фишера. Найдем фактическое значение $F$-критерия ($F_{факт}$):"
      ],
      "metadata": {
        "id": "qhslTIDIVOVg"
      }
    },
    {
      "cell_type": "code",
      "metadata": {
        "id": "2s_12smQVWC0",
        "outputId": "27f47b3b-6ab1-495c-b217-b6146643bacd",
        "colab": {
          "base_uri": "https://localhost:8080/"
        }
      },
      "source": [
        "F_fact = (R2 * (n - 2)) / (1 - R2)\n",
        "F_fact"
      ],
      "execution_count": 24,
      "outputs": [
        {
          "output_type": "execute_result",
          "data": {
            "text/plain": [
              "29.671640859664432"
            ]
          },
          "metadata": {},
          "execution_count": 24
        }
      ]
    },
    {
      "cell_type": "markdown",
      "source": [
        "При 5 % уровне значимости и степенях свободы $k_1 = 1$ и $k_2 = 10 - 2 = 8$ табличное значение критерия: $F_{кр} = 5.32$.\n",
        "\n",
        "Так как $F_{факт} = 29.67 > F_{кр} = 5.32$, уравнение регрессии статистически значимо."
      ],
      "metadata": {
        "id": "Cp7XjMzl-KgL"
      }
    },
    {
      "cell_type": "markdown",
      "source": [
        "Для оценки статистической значимости параметров регрессии воспользуемся $t$-статистикой Стьюдента и также рассчитаем \n",
        "\n",
        "доверительные интервалы каждого из показателей. При $df = n - 2 = 10 - 2 = 8$ и $\\alpha = 0.05$ получим:"
      ],
      "metadata": {
        "id": "Qxzgl08XAXdL"
      }
    },
    {
      "cell_type": "markdown",
      "source": [
        "$t_{кр} = 2.306$"
      ],
      "metadata": {
        "id": "FUyDZPVBA8KU"
      }
    },
    {
      "cell_type": "markdown",
      "source": [
        "Определим стандартную ошибку $S_{ост}$ (S) и случайные ошибки $m_a, \\; m_b$:"
      ],
      "metadata": {
        "id": "6OTP7a7VBKns"
      }
    },
    {
      "cell_type": "code",
      "source": [
        "S = np.sqrt(np.sum((y - y_pred)**2) / (n - 2))\n",
        "\n",
        "m_a = S * np.sqrt(np.sum(x ** 2)) / (n * np.std(x))\n",
        "m_b = S / (np.std(x) * np.sqrt(n))\n",
        "\n",
        "print('S = {}\\nm_a = {}\\nm_b = {}'.format(S, m_a, m_b))\n"
      ],
      "metadata": {
        "colab": {
          "base_uri": "https://localhost:8080/"
        },
        "id": "PZ9RARvsBXSy",
        "outputId": "99bc48eb-a4b4-4eb1-de1c-c2be793ad3e3"
      },
      "execution_count": 29,
      "outputs": [
        {
          "output_type": "stream",
          "name": "stdout",
          "text": [
            "S = 89.93340731602925\n",
            "m_a = 56.466497550681524\n",
            "m_b = 0.48108279568516\n"
          ]
        }
      ]
    },
    {
      "cell_type": "markdown",
      "source": [
        "Вычислим наблюдаемые значения критерия $t_a$ и $t_b$:"
      ],
      "metadata": {
        "id": "AixfrrEqD7Fv"
      }
    },
    {
      "cell_type": "code",
      "source": [
        "t_a = a / m_a\n",
        "t_a"
      ],
      "metadata": {
        "colab": {
          "base_uri": "https://localhost:8080/"
        },
        "id": "N3G90o9xD8vn",
        "outputId": "e0e94437-634b-4ef6-901b-98de4f366d10"
      },
      "execution_count": 30,
      "outputs": [
        {
          "output_type": "execute_result",
          "data": {
            "text/plain": [
              "7.866210524668864"
            ]
          },
          "metadata": {},
          "execution_count": 30
        }
      ]
    },
    {
      "cell_type": "code",
      "source": [
        "t_b = b / m_b\n",
        "t_b"
      ],
      "metadata": {
        "colab": {
          "base_uri": "https://localhost:8080/"
        },
        "id": "jZuNNUiQEKpf",
        "outputId": "5df7a451-b9e1-4e50-b072-0f251a39e4c7"
      },
      "execution_count": 32,
      "outputs": [
        {
          "output_type": "execute_result",
          "data": {
            "text/plain": [
              "5.447168150485579"
            ]
          },
          "metadata": {},
          "execution_count": 32
        }
      ]
    },
    {
      "cell_type": "markdown",
      "source": [
        "Фактические значения t-статистики больше табличного значения:\n",
        "$t_a = 7.87 > t_{кр} = 2.306, \\; t_b = 5.45 > t_{кр} = 2.306,$\n",
        "поэтому параметры $a$ и $b$ статистически значимы.\n",
        "\n",
        "Рассчитаем доверительные интервалы для параметров регрессии $a$ и $b$. Для этого определим предельную ошибку для каждого показателя ($\\Delta_a$ и $\\Delta_b$)"
      ],
      "metadata": {
        "id": "SEBzdllVH4Xs"
      }
    },
    {
      "cell_type": "code",
      "source": [
        "t = 2.306\n",
        "delta_a = t * m_a\n",
        "delta_a"
      ],
      "metadata": {
        "colab": {
          "base_uri": "https://localhost:8080/"
        },
        "id": "jhe0J3SgQVsr",
        "outputId": "68cfcead-2a75-4889-9631-1738acfa2288"
      },
      "execution_count": 33,
      "outputs": [
        {
          "output_type": "execute_result",
          "data": {
            "text/plain": [
              "130.2117433518716"
            ]
          },
          "metadata": {},
          "execution_count": 33
        }
      ]
    },
    {
      "cell_type": "code",
      "source": [
        "delta_b = t * m_b\n",
        "delta_b"
      ],
      "metadata": {
        "colab": {
          "base_uri": "https://localhost:8080/"
        },
        "id": "5ICAXKIJQjkp",
        "outputId": "ff8f8f86-2acb-4a66-e29d-37f601d27b5a"
      },
      "execution_count": 34,
      "outputs": [
        {
          "output_type": "execute_result",
          "data": {
            "text/plain": [
              "1.109376926849979"
            ]
          },
          "metadata": {},
          "execution_count": 34
        }
      ]
    },
    {
      "cell_type": "markdown",
      "source": [
        "Найдем границы доверительных интервалов $\\gamma_{a_{min}}, \\gamma_{a_{max}}, \\gamma_{b_{min}}, \\gamma_{b_{max}}$:"
      ],
      "metadata": {
        "id": "_7Fmv-TuQq9L"
      }
    },
    {
      "cell_type": "code",
      "source": [
        "gamma_a_min = a - delta_a\n",
        "gamma_a_min"
      ],
      "metadata": {
        "colab": {
          "base_uri": "https://localhost:8080/"
        },
        "id": "law_XuxPQm5h",
        "outputId": "80e09135-cc6d-4d55-f942-12001b2a433a"
      },
      "execution_count": 35,
      "outputs": [
        {
          "output_type": "execute_result",
          "data": {
            "text/plain": [
              "313.965613972488"
            ]
          },
          "metadata": {},
          "execution_count": 35
        }
      ]
    },
    {
      "cell_type": "code",
      "source": [
        "gamma_a_max = a + delta_a\n",
        "gamma_a_max"
      ],
      "metadata": {
        "colab": {
          "base_uri": "https://localhost:8080/"
        },
        "id": "O0hnhGK8Qz1l",
        "outputId": "c83b47a9-f06a-4083-f76c-00f337cef370"
      },
      "execution_count": 36,
      "outputs": [
        {
          "output_type": "execute_result",
          "data": {
            "text/plain": [
              "574.3891006762312"
            ]
          },
          "metadata": {},
          "execution_count": 36
        }
      ]
    },
    {
      "cell_type": "code",
      "source": [
        "gamma_b_min = b - delta_b\n",
        "gamma_b_min"
      ],
      "metadata": {
        "colab": {
          "base_uri": "https://localhost:8080/"
        },
        "id": "Jw1uO8U1Q1yk",
        "outputId": "a3e963c3-32c9-4b45-aa68-1458ba6ae2c7"
      },
      "execution_count": 37,
      "outputs": [
        {
          "output_type": "execute_result",
          "data": {
            "text/plain": [
              "1.511161955552786"
            ]
          },
          "metadata": {},
          "execution_count": 37
        }
      ]
    },
    {
      "cell_type": "code",
      "source": [
        "gamma_b_max = b + delta_b\n",
        "gamma_b_max"
      ],
      "metadata": {
        "colab": {
          "base_uri": "https://localhost:8080/"
        },
        "id": "gG6nwbwrQ3f_",
        "outputId": "a2b114d4-7d14-40ba-b95a-9936f13f6b76"
      },
      "execution_count": 38,
      "outputs": [
        {
          "output_type": "execute_result",
          "data": {
            "text/plain": [
              "3.729915809252744"
            ]
          },
          "metadata": {},
          "execution_count": 38
        }
      ]
    },
    {
      "cell_type": "markdown",
      "source": [
        "Приходим к выводу о том, что с вероятностью $p = 1 - \\alpha = 0.95$ параметры $a$ и $b$, находясь в указанных границах, являются статистически значимыми"
      ],
      "metadata": {
        "id": "K4ChCT-iQ5np"
      }
    },
    {
      "cell_type": "markdown",
      "source": [
        "# **Задание 2**"
      ],
      "metadata": {
        "id": "yyc3v1DvRK5P"
      }
    },
    {
      "cell_type": "markdown",
      "source": [
        "В каких случаях для вычисления доверительных интервалов и проверки статистических гипотез используется таблица значений функции Лапласа, а в каких - таблица критических точек распределения Стьюдента?\n",
        "\n"
      ],
      "metadata": {
        "id": "E7D063gVRN2B"
      }
    },
    {
      "cell_type": "markdown",
      "source": [
        "Сравнение двух средних выборок при известных дисперсиях осуществляется при помощи функции Лапласа. При неизвестных дисперсиях и, в случае если определение отлично от нормального и большой объем выборки, используется распределение Стьюдента"
      ],
      "metadata": {
        "id": "BISOwm-5RXmG"
      }
    }
  ]
}